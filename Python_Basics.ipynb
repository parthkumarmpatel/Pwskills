{
  "nbformat": 4,
  "nbformat_minor": 0,
  "metadata": {
    "colab": {
      "provenance": []
    },
    "kernelspec": {
      "name": "python3",
      "display_name": "Python 3"
    },
    "language_info": {
      "name": "python"
    }
  },
  "cells": [
    {
      "cell_type": "markdown",
      "source": [
        "# Python Basics Answers"
      ],
      "metadata": {
        "id": "nZThjM15xUBb"
      }
    },
    {
      "cell_type": "markdown",
      "source": [
        "1. What is Python, and why is it popular ?\n",
        "  - Python is a High Level programming language known for its easy to understand english like syntax, readability and number of libraries, making it easy to learn and it's usability in data science, web development and task automation is making it developers one of the top choice."
      ],
      "metadata": {
        "id": "WqLH2gkZxhv_"
      }
    },
    {
      "cell_type": "markdown",
      "source": [
        "2. What is an interpreter in Python ?\n",
        "  - Python Interpreter is the program that reads and executes Python code. It translates our python instructions into machine readable form line by line.\n",
        "\n",
        "  - when we run a python programme it will go through python interpreter which will responsible for cheking errros then convert the code into an intermediate form called bytcode then send the code to Python virtual machine for execution."
      ],
      "metadata": {
        "id": "epI-ImEIxhtS"
      }
    },
    {
      "cell_type": "markdown",
      "source": [
        "3. What are pre-defined keywords in Python ?\n",
        "  - Pre defined keywords are keywords which are reserved for languaghe's own use. they have specific meaning within language itself. they cannot be used as varibles or function names as this would conflict with their predefined purpose and lead to syntax error.\n",
        "\n",
        "  - ex. True, False, if, else, elif, print etc."
      ],
      "metadata": {
        "id": "M3aYl8wcxhoj"
      }
    },
    {
      "cell_type": "markdown",
      "source": [
        "4. Can keywords be used as variable names?\n",
        "  - No, They cannnot be used as keywords as they are reserved for language's own use and using them in variable name can cause an ambiguity issue and language wouldn't be able to distinguish between if the keyword is used as keyword or variable name. this would result in an syntax error."
      ],
      "metadata": {
        "id": "1XPY6BGsxhmK"
      }
    },
    {
      "cell_type": "markdown",
      "source": [
        "5. What is mutability in Python?\n",
        "  - In Python, mutability means whether an object’s value can be changed after it is created.\n",
        "  - Mutable objects can be updated in place.\n",
        "Examples: list, dict, set\n",
        "\n"
      ],
      "metadata": {
        "id": "yn80tigfxhjX"
      }
    },
    {
      "cell_type": "code",
      "source": [
        "Ex:\n",
        "nums = [1, 2, 3]\n",
        "nums[0] = 10\n",
        "print(nums)   # [10, 2, 3]"
      ],
      "metadata": {
        "colab": {
          "base_uri": "https://localhost:8080/"
        },
        "id": "ptM_CsKs-uNO",
        "outputId": "1539d6c3-3bdb-4ae5-de7a-8c2c5b23a7b8"
      },
      "execution_count": null,
      "outputs": [
        {
          "output_type": "stream",
          "name": "stdout",
          "text": [
            "[10, 2, 3]\n"
          ]
        }
      ]
    },
    {
      "cell_type": "markdown",
      "source": [
        "6. Why are lists mutable, but tuples are immutable?\n",
        "  - Lists are mutable because they are designed for dynamic collections where elements can be added, removed, or modified.\n",
        "Tuples are immutable because they represent fixed collections, making them safer, faster, and usable as dictionary keys."
      ],
      "metadata": {
        "id": "oTdxKBy1xhgv"
      }
    },
    {
      "cell_type": "markdown",
      "source": [
        "7. What is the difference between “==” and “is” operators in Python?\n",
        "  - == (Equality operator) → checks if two objects have the same value/content\n",
        "  - is (Identity operator) → checks if two objects refer to the same memory location (same object)."
      ],
      "metadata": {
        "id": "WWU2f_ypxhaE"
      }
    },
    {
      "cell_type": "markdown",
      "source": [
        "8. What are logical operators in Python?\n",
        "  - and → True if both conditions are true.\n",
        "  - or → True if at least one condition is true.\n",
        "  - not → Reverses the Boolean value."
      ],
      "metadata": {
        "id": "VlkgyJ6Rxy_n"
      }
    },
    {
      "cell_type": "markdown",
      "source": [
        "9. What is type casting in Python?\n",
        "  - Type casting in Python is the process of converting one data type into another, either explicitly using functions like int(), float(), str(), etc"
      ],
      "metadata": {
        "id": "pSffxUtvxy-C"
      }
    },
    {
      "cell_type": "markdown",
      "source": [
        "10. What is the difference between implicit and explicit type casting?\n",
        "  - Implicit Type Casting (Type Conversion) → Done automatically by Python when a smaller data type is converted into a larger compatible type to avoid data loss.\n",
        "  - Explicit Type Casting (Type Casting) → Done manually by the programmer using functions like int(), float(), str(), etc."
      ],
      "metadata": {
        "id": "Hg16cVtNxy8C"
      }
    },
    {
      "cell_type": "markdown",
      "source": [
        "11. What is the purpose of conditional statements in Python?\n",
        "  - The purpose of conditional statements in Python is to control the flow of a program by executing certain blocks of code only when specific conditions are true."
      ],
      "metadata": {
        "id": "SPpMZJsLxy5k"
      }
    },
    {
      "cell_type": "markdown",
      "source": [
        "12. How does the elif statement work?\n",
        "   - elif stands for \"else if\" and is used to check additional conditions if the intial \"if\" statement is false, it allows you to evaluate multiple conditions sequentially, executing the block of code only if the current \"elif\" condition is true, while moving on to the next \"elif\" if the previous one is false."
      ],
      "metadata": {
        "id": "RWZ94nFKxy3o"
      }
    },
    {
      "cell_type": "markdown",
      "source": [
        "13. What is the difference between for and while loops?\n",
        "  - for loop → Used when you know the exact sequence or range to iterate over.\n",
        "  - while loop → Used when you want to repeat until a condition becomes false (number of iterations not fixed)."
      ],
      "metadata": {
        "id": "oLDdfgykxy1Z"
      }
    },
    {
      "cell_type": "markdown",
      "source": [
        "14. Describe a scenario where a while loop is more suitable than a for loop?\n",
        "  - You want to ask a user to enter a valid number between 1 and 10. Since you don't know how many times the user might enter an invalid number, you can use a while loop to keep prompting them until they provide a valid input."
      ],
      "metadata": {
        "id": "BsNujQKZxyzp"
      }
    },
    {
      "cell_type": "markdown",
      "source": [
        "# Practical Questions"
      ],
      "metadata": {
        "id": "aDU4jnZ_xyxF"
      }
    },
    {
      "cell_type": "markdown",
      "source": [
        "1. Write a Python program to print \"Hello, World!\""
      ],
      "metadata": {
        "id": "s0MQYNEYyGwI"
      }
    },
    {
      "cell_type": "code",
      "source": [
        "print(\"Hello, World!!\")"
      ],
      "metadata": {
        "colab": {
          "base_uri": "https://localhost:8080/",
          "height": 0
        },
        "id": "DykpgYgmZJyV",
        "outputId": "48d8dbb1-3753-4272-82ef-1b98edeea852"
      },
      "execution_count": 1,
      "outputs": [
        {
          "output_type": "stream",
          "name": "stdout",
          "text": [
            "Hello, World!!\n"
          ]
        }
      ]
    },
    {
      "cell_type": "markdown",
      "source": [
        "2. Write a Python program that displays your name and age?"
      ],
      "metadata": {
        "id": "-1Daxo15yGvD"
      }
    },
    {
      "cell_type": "code",
      "source": [
        "Name = input(\"PLease Enter Your Name : \")\n",
        "Age = input(\"PLease Enter Your Age : \")\n",
        "print(f\"Your name is {Name} and you are {Age} years old.\")"
      ],
      "metadata": {
        "colab": {
          "base_uri": "https://localhost:8080/",
          "height": 0
        },
        "id": "tM_sxpPmZTj3",
        "outputId": "5ccabfa6-7621-4c77-f754-8eafadd65202"
      },
      "execution_count": 2,
      "outputs": [
        {
          "output_type": "stream",
          "name": "stdout",
          "text": [
            "PLease Enter Your Name : Parth\n",
            "PLease Enter Your Age : 24\n",
            "Your name is Parth and you are 24 years old.\n"
          ]
        }
      ]
    },
    {
      "cell_type": "markdown",
      "source": [
        "3. Write code to print all the pre-defined keywords in Python using the keyword library."
      ],
      "metadata": {
        "id": "s4PgDT1eyGlP"
      }
    },
    {
      "cell_type": "code",
      "source": [
        "import keyword\n",
        "keywords = keyword.kwlist\n",
        "print(keywords)"
      ],
      "metadata": {
        "colab": {
          "base_uri": "https://localhost:8080/",
          "height": 0
        },
        "id": "qY2RXppAaSC_",
        "outputId": "97086ee4-e7aa-47b0-e7ec-fad71267c932"
      },
      "execution_count": 3,
      "outputs": [
        {
          "output_type": "stream",
          "name": "stdout",
          "text": [
            "['False', 'None', 'True', 'and', 'as', 'assert', 'async', 'await', 'break', 'class', 'continue', 'def', 'del', 'elif', 'else', 'except', 'finally', 'for', 'from', 'global', 'if', 'import', 'in', 'is', 'lambda', 'nonlocal', 'not', 'or', 'pass', 'raise', 'return', 'try', 'while', 'with', 'yield']\n"
          ]
        }
      ]
    },
    {
      "cell_type": "markdown",
      "source": [
        "4. Write a program that checks if a given word is a Python keyword?"
      ],
      "metadata": {
        "id": "SsLC-elSyGkg"
      }
    },
    {
      "cell_type": "code",
      "source": [
        "import keyword\n",
        "keywords = keyword.kwlist\n",
        "Keyword_check = input(\"Please enter a word : \")\n",
        "if Keyword_check in keywords:\n",
        "  print(\"Yes, This is a Keyword\")\n",
        "else:\n",
        "  print(\"No. This is not a valid keyword\")"
      ],
      "metadata": {
        "colab": {
          "base_uri": "https://localhost:8080/",
          "height": 0
        },
        "id": "e98JVGSOa1aT",
        "outputId": "188c0dab-1c71-4632-bb4a-e6e58c4f2891"
      },
      "execution_count": 5,
      "outputs": [
        {
          "output_type": "stream",
          "name": "stdout",
          "text": [
            "Please enter a word : False\n",
            "Yes, This is a Keyword\n"
          ]
        }
      ]
    },
    {
      "cell_type": "markdown",
      "source": [
        "5. Create a list and tuple in Python, and demonstrate how attempting to change an element works differentlyc for each."
      ],
      "metadata": {
        "id": "2KMG5rR3yGie"
      }
    },
    {
      "cell_type": "code",
      "source": [
        "# Tuple\n",
        "My_tuple = (1,2,3,4)\n",
        "print(My_tuple)\n",
        "\n",
        "#Modification trial\n",
        "try:\n",
        "  My_tuple[0]=5\n",
        "except TypeError as E:\n",
        "  print(\"Tuple is immutable\",E)\n",
        "\n",
        "#list\n",
        "my_list = [1,2,3,4]\n",
        "print(my_list)\n",
        "\n",
        "#modification trial\n",
        "my_list[0] = 5\n",
        "print(my_list)\n"
      ],
      "metadata": {
        "colab": {
          "base_uri": "https://localhost:8080/"
        },
        "id": "H0H5HVhAcYhb",
        "outputId": "4fe004e8-8ed3-4a6c-c5b4-fd88d4ce5fe1"
      },
      "execution_count": 7,
      "outputs": [
        {
          "output_type": "stream",
          "name": "stdout",
          "text": [
            "(1, 2, 3, 4)\n",
            "Tuple is immutable 'tuple' object does not support item assignment\n",
            "[1, 2, 3, 4]\n",
            "[5, 2, 3, 4]\n"
          ]
        }
      ]
    },
    {
      "cell_type": "markdown",
      "source": [
        "6. Write a function to demonstrate the behavior of mutable and immutable arguments."
      ],
      "metadata": {
        "id": "Mf0Ra80ryGgO"
      }
    },
    {
      "cell_type": "code",
      "source": [
        "#Immutable\n",
        "x= \"Vijay\"\n",
        "print(x)\n",
        "try:\n",
        "  x[0]=\"B\"\n",
        "except TypeError as E:\n",
        "  print(\"string is immutable\", E)\n",
        "\n",
        "#Mutable\n",
        "x= [1,2,3,4,5]\n",
        "print(x)\n",
        "x[0] = 9\n",
        "print(x)"
      ],
      "metadata": {
        "colab": {
          "base_uri": "https://localhost:8080/"
        },
        "id": "laSgFURXeK00",
        "outputId": "07490279-f0a8-4e14-8c9d-5d1794f98e7b"
      },
      "execution_count": 1,
      "outputs": [
        {
          "output_type": "stream",
          "name": "stdout",
          "text": [
            "Vijay\n",
            "string is immutable 'str' object does not support item assignment\n",
            "[1, 2, 3, 4, 5]\n",
            "[9, 2, 3, 4, 5]\n"
          ]
        }
      ]
    },
    {
      "cell_type": "markdown",
      "source": [
        "7.  Write a program that performs basic arithmetic operations on two user-input numbers."
      ],
      "metadata": {
        "id": "PomemKX5yGeW"
      }
    },
    {
      "cell_type": "code",
      "source": [
        "Number1 = float(input(\"Please Enter a 1st Number : \"))\n",
        "Number2 = float(input(\"Please Enter a 2nd Number : \"))\n",
        "\n",
        "sum = Number1 + Number2\n",
        "sub = Number1 - Number2\n",
        "Mul = Number1 * Number2\n",
        "Div = Number1 / Number2\n",
        "\n",
        "print(\"sum_Result : \", sum)\n",
        "print(\"sub_Result : \", sub)\n",
        "print(\"mul_Result : \", Mul)\n",
        "print(\"div_Result : \", Div)\n"
      ],
      "metadata": {
        "colab": {
          "base_uri": "https://localhost:8080/"
        },
        "id": "P9oF8ddtBx-D",
        "outputId": "038d7fc6-d149-4677-cec5-242303f7a409"
      },
      "execution_count": 11,
      "outputs": [
        {
          "output_type": "stream",
          "name": "stdout",
          "text": [
            "Please Enter a 1st Number : 10\n",
            "Please Enter a 2nd Number : 2\n",
            "sum_Result :  12.0\n",
            "sub_Result :  8.0\n",
            "mul_Result :  20.0\n",
            "div_Result :  5.0\n"
          ]
        }
      ]
    },
    {
      "cell_type": "markdown",
      "source": [
        "08. Write a program to demonstrate the use of logical operators"
      ],
      "metadata": {
        "id": "6D7svvJ-yGcS"
      }
    },
    {
      "cell_type": "code",
      "source": [
        "age = int(input(\"Please Enter your age : \"))\n",
        "Licence = input(\"Do you have a Driving Licence?(yes/no) : \")\n",
        "\n",
        "#Using Logical AND\n",
        "\n",
        "if age>=18 and Licence.lower() == \"yes\":\n",
        "  print(\"You can Drive\")\n",
        "\n",
        "#using Logical OR\n",
        "\n",
        "is_minor_or_senior = age < 18 or age >= 60\n",
        "print(f\"Is the person a minor or senior citizen? {is_minor_or_senior}\")\n",
        "\n",
        "#Using Logical NOT\n",
        "\n",
        "not_minor = not (age < 18)\n",
        "print(f\"Is the person NOT a minor? {not_minor}\")"
      ],
      "metadata": {
        "colab": {
          "base_uri": "https://localhost:8080/"
        },
        "id": "NwRf4YZiBwpn",
        "outputId": "603d7dc1-bd20-47fe-c785-773d4220537d"
      },
      "execution_count": 16,
      "outputs": [
        {
          "output_type": "stream",
          "name": "stdout",
          "text": [
            "Please Enter your age : 24\n",
            "Do you have a Driving Licence?(yes/no) : YES\n",
            "You can Drive\n",
            "Is the person a minor or senior citizen? False\n",
            "Is the person NOT a minor? True\n"
          ]
        }
      ]
    },
    {
      "cell_type": "markdown",
      "source": [
        "9. Write a Python program to convert user input from string to integer, float, and boolean types"
      ],
      "metadata": {
        "id": "Xr-_mVwCyGZm"
      }
    },
    {
      "cell_type": "code",
      "source": [
        "# age datatype is string\n",
        "age = input(\"Please enter your age : \")\n",
        "\n",
        "#str to int\n",
        "age_int = int(age)\n",
        "print(type(age_int))\n",
        "print(age_int)\n",
        "\n",
        "#str to float\n",
        "age_float = float(age)\n",
        "print(type(age_float))\n",
        "print(age_float)\n",
        "\n",
        "#str to boolean\n",
        "age_bool = bool(age)\n",
        "print(type(age_bool))\n",
        "print(age_bool)"
      ],
      "metadata": {
        "colab": {
          "base_uri": "https://localhost:8080/"
        },
        "id": "mdZtItY2QLJM",
        "outputId": "47563788-d9dd-47d6-d027-5d1034143db7"
      },
      "execution_count": 21,
      "outputs": [
        {
          "output_type": "stream",
          "name": "stdout",
          "text": [
            "Please enter your age : 25\n",
            "<class 'int'>\n",
            "25\n",
            "<class 'float'>\n",
            "25.0\n",
            "<class 'bool'>\n",
            "True\n"
          ]
        }
      ]
    },
    {
      "cell_type": "markdown",
      "source": [
        "10. Write code to demonstrate type casting with list elements"
      ],
      "metadata": {
        "id": "NLYBnK5Rxyui"
      }
    },
    {
      "cell_type": "code",
      "source": [
        "data = [\"10\",\"2\",\"4.6\",0,\"35\"]\n",
        "\n",
        "int_list = [int(x) for x in data if x.isdigit()] # convert to int(only if numeric)\n",
        "float_list = [float(x) for x in data] #convert all to float\n",
        "bool_list = [bool(x) for x in data] #convert all to bool\n",
        "\n",
        "print(\"Raw List : \", data)\n",
        "print(\"Int_list : \", int_list)\n",
        "print(\"float_list : \", float_list)\n",
        "print(\"bool_list : \", bool_list)\n",
        "\n",
        "\n",
        "\n",
        "\n"
      ],
      "metadata": {
        "colab": {
          "base_uri": "https://localhost:8080/"
        },
        "id": "m-3bFkoGQL57",
        "outputId": "c805e7d4-07ac-44fa-94b6-44d7de29c6da"
      },
      "execution_count": 27,
      "outputs": [
        {
          "output_type": "stream",
          "name": "stdout",
          "text": [
            "Raw List :  ['10', '2', '4.6', '0', '35']\n",
            "Int_list :  [10, 2, 0, 35]\n",
            "float_list :  [10.0, 2.0, 4.6, 0.0, 35.0]\n",
            "bool_list :  [True, True, True, True, True]\n"
          ]
        }
      ]
    },
    {
      "cell_type": "markdown",
      "source": [
        "11. Write a program that checks if a number is positive, negative, or zero"
      ],
      "metadata": {
        "id": "v2mbHGe5ykzk"
      }
    },
    {
      "cell_type": "code",
      "source": [
        "user_input = float(input(\"Please Enter a Number : \"))\n",
        "\n",
        "#check postitive, Negative, Zero\n",
        "\n",
        "if user_input > 0:\n",
        "  print(\"given number is positive\")\n",
        "elif user_input < 0:\n",
        "  print(\"given number is negative\")\n",
        "else:\n",
        "  print(\"given number is zero\")\n",
        "\n"
      ],
      "metadata": {
        "colab": {
          "base_uri": "https://localhost:8080/"
        },
        "id": "q0GtmbrmQMXz",
        "outputId": "5e19466c-5877-4a68-d08b-02912c58cc2e"
      },
      "execution_count": 33,
      "outputs": [
        {
          "output_type": "stream",
          "name": "stdout",
          "text": [
            "Please Enter a Number : 10\n",
            "given number is positive\n"
          ]
        }
      ]
    },
    {
      "cell_type": "markdown",
      "source": [
        "12. Write a for loop to print numbers from 1 to 10"
      ],
      "metadata": {
        "id": "exwvGaslykxc"
      }
    },
    {
      "cell_type": "code",
      "source": [
        "for i in range(1,11):\n",
        "  print(i)"
      ],
      "metadata": {
        "colab": {
          "base_uri": "https://localhost:8080/"
        },
        "id": "3_wM3reTQM07",
        "outputId": "c8bedb78-b5f8-4fe0-d967-5e5ad5204175"
      },
      "execution_count": 38,
      "outputs": [
        {
          "output_type": "stream",
          "name": "stdout",
          "text": [
            "1\n",
            "2\n",
            "3\n",
            "4\n",
            "5\n",
            "6\n",
            "7\n",
            "8\n",
            "9\n",
            "10\n"
          ]
        }
      ]
    },
    {
      "cell_type": "markdown",
      "source": [
        "13. Write a Python program to find the sum of all even numbers between 1 and 50"
      ],
      "metadata": {
        "id": "k3WN2_7TykvD"
      }
    },
    {
      "cell_type": "code",
      "source": [
        "sum_even = 0\n",
        "for num in range(1,51):\n",
        "  if num % 2 == 0:\n",
        "    sum_even+=num\n",
        "print(sum_even)"
      ],
      "metadata": {
        "colab": {
          "base_uri": "https://localhost:8080/"
        },
        "id": "AVfqg0q1QOgJ",
        "outputId": "f5b29c82-435a-45bf-f345-abdc9e3d1e13"
      },
      "execution_count": 41,
      "outputs": [
        {
          "output_type": "stream",
          "name": "stdout",
          "text": [
            "650\n"
          ]
        }
      ]
    },
    {
      "cell_type": "markdown",
      "source": [
        "14. Write a program to reverse a string using a while loop"
      ],
      "metadata": {
        "id": "73fIyJbsyks6"
      }
    },
    {
      "cell_type": "code",
      "source": [
        "user_input = input(\"Please enter your name: \")\n",
        "reversed_text = \"\"\n",
        "index = len(user_input) - 1\n",
        "while index >= 0:\n",
        "  reversed_text += user_input[index]\n",
        "  index-=1\n",
        "print(\"Reversed String : \", reversed_text)\n",
        "\n"
      ],
      "metadata": {
        "colab": {
          "base_uri": "https://localhost:8080/"
        },
        "id": "Bm-C0vTYcRFI",
        "outputId": "abc57f77-9fb8-4808-c181-ebe6fbfaa80b"
      },
      "execution_count": 45,
      "outputs": [
        {
          "output_type": "stream",
          "name": "stdout",
          "text": [
            "Please enter your name: Parth\n",
            "Reversed String :  htraP\n"
          ]
        }
      ]
    },
    {
      "cell_type": "markdown",
      "source": [
        "15. Write a Python program to calculate the factorial of a number provided by the user using a while loop"
      ],
      "metadata": {
        "id": "fnVRe6axykr9"
      }
    },
    {
      "cell_type": "code",
      "execution_count": 46,
      "metadata": {
        "id": "RzML63EbxTOy",
        "colab": {
          "base_uri": "https://localhost:8080/"
        },
        "outputId": "b99a0674-19a3-4da1-ae87-31a12038eb65"
      },
      "outputs": [
        {
          "output_type": "stream",
          "name": "stdout",
          "text": [
            "please enter a number : 5\n",
            "Factorial of  5 is :  120\n"
          ]
        }
      ],
      "source": [
        "num = int(input(\"please enter a number : \"))\n",
        "\n",
        "factorial = 1\n",
        "i = num\n",
        "\n",
        "while i > 0:\n",
        "  factorial*=i\n",
        "  i-=1\n",
        "print(\"Factorial of \",num,\"is : \",factorial)"
      ]
    }
  ]
}